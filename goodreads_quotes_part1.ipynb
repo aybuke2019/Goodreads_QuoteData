{
 "cells": [
  {
   "cell_type": "code",
   "execution_count": 1,
   "id": "historical-dialogue",
   "metadata": {},
   "outputs": [],
   "source": [
    "import requests \n",
    "from bs4 import BeautifulSoup\n",
    "import pandas as pd\n",
    "from itertools import chain\n",
    "\n",
    "def get_page_links(url):\n",
    "    baseurl='https://www.goodreads.com'\n",
    "    r = requests.get(url)\n",
    "    sp = BeautifulSoup(r.text,'lxml')\n",
    "    #links location : \n",
    "    links = sp.select('div.right a') #likes link!\n",
    "    #print(links)\n",
    "    return[baseurl + link.attrs['href'] for link in links]\n",
    "\n",
    "#get_page_links('https://www.goodreads.com/quotes?page=2')"
   ]
  },
  {
   "cell_type": "code",
   "execution_count": 2,
   "id": "silent-canada",
   "metadata": {},
   "outputs": [],
   "source": [
    "def product_data(url):\n",
    "    r = requests.get(url)\n",
    "    sp = BeautifulSoup(r.text,'lxml')\n",
    "    #create dictionary\n",
    "    if sp.select_one('a.authorOrTitle') is not None:\n",
    "        product ={\n",
    "            'quoteText': sp.select_one('h1.quoteText').text.strip().replace('\\n','').replace('“','').replace('”',''),\n",
    "            'author': sp.select_one('span.authorOrTitle').text.strip().replace('\\n','').replace(',',''),            \n",
    "            'title': sp.select_one('a.authorOrTitle').text.strip().replace('\\n',''),      \n",
    "    }\n",
    "        \n",
    "    if sp.select_one('a.authorOrTitle') is None:\n",
    "        product ={\n",
    "            'quoteText': sp.select_one('h1.quoteText').text.strip().replace('\\n','').replace('“','').replace('”',''),\n",
    "            'author': sp.select_one('span.authorOrTitle').text.strip().replace('\\n','').replace(',',''),       \n",
    "            'title': sp.select_one('a.authorOrTitle')    \n",
    "    }\n",
    "         \n",
    "    return(product)\n",
    "\n",
    "#likes ?\n",
    "#tags ? "
   ]
  },
  {
   "cell_type": "code",
   "execution_count": 3,
   "id": "exciting-result",
   "metadata": {
    "scrolled": false
   },
   "outputs": [],
   "source": [
    "#product_data('https://www.goodreads.com/quotes/14304-it-is-better-to-be-hated-for-what-you-are')"
   ]
  },
  {
   "cell_type": "code",
   "execution_count": 4,
   "id": "interior-concentration",
   "metadata": {},
   "outputs": [],
   "source": [
    "def main():\n",
    "    results =[]\n",
    "    for x in range(1,26): \n",
    "        \n",
    "        urls = get_page_links(f'https://www.goodreads.com/quotes?page={x}') \n",
    "        #print(f'urls:  {urls} Completed.')\n",
    "        productinfo = [product_data(url) for url in urls]\n",
    "        #print(productinfo)\n",
    "        results.append(productinfo) # for each page\n",
    "        df = pd.DataFrame(list(chain.from_iterable(results)))\n",
    "        print(f'\\n Page {x} Completed.')\n",
    "        #print(df)\n",
    "    \n",
    "    \n",
    "    df.to_csv('quotes100_1.csv', index=False) \n",
    "    print('Saved to CSV')\n",
    "    return df.tail(2)\n"
   ]
  },
  {
   "cell_type": "code",
   "execution_count": 5,
   "id": "classified-criminal",
   "metadata": {},
   "outputs": [
    {
     "name": "stdout",
     "output_type": "stream",
     "text": [
      "\n",
      " Page 1 Completed.\n",
      "\n",
      " Page 2 Completed.\n",
      "\n",
      " Page 3 Completed.\n",
      "\n",
      " Page 4 Completed.\n",
      "\n",
      " Page 5 Completed.\n",
      "\n",
      " Page 6 Completed.\n",
      "\n",
      " Page 7 Completed.\n",
      "\n",
      " Page 8 Completed.\n",
      "\n",
      " Page 9 Completed.\n",
      "\n",
      " Page 10 Completed.\n",
      "\n",
      " Page 11 Completed.\n",
      "\n",
      " Page 12 Completed.\n",
      "\n",
      " Page 13 Completed.\n",
      "\n",
      " Page 14 Completed.\n",
      "\n",
      " Page 15 Completed.\n",
      "\n",
      " Page 16 Completed.\n",
      "\n",
      " Page 17 Completed.\n",
      "\n",
      " Page 18 Completed.\n",
      "\n",
      " Page 19 Completed.\n",
      "\n",
      " Page 20 Completed.\n",
      "\n",
      " Page 21 Completed.\n",
      "\n",
      " Page 22 Completed.\n",
      "\n",
      " Page 23 Completed.\n",
      "\n",
      " Page 24 Completed.\n",
      "\n",
      " Page 25 Completed.\n",
      "Saved to CSV\n"
     ]
    },
    {
     "data": {
      "text/html": [
       "<div>\n",
       "<style scoped>\n",
       "    .dataframe tbody tr th:only-of-type {\n",
       "        vertical-align: middle;\n",
       "    }\n",
       "\n",
       "    .dataframe tbody tr th {\n",
       "        vertical-align: top;\n",
       "    }\n",
       "\n",
       "    .dataframe thead th {\n",
       "        text-align: right;\n",
       "    }\n",
       "</style>\n",
       "<table border=\"1\" class=\"dataframe\">\n",
       "  <thead>\n",
       "    <tr style=\"text-align: right;\">\n",
       "      <th></th>\n",
       "      <th>quoteText</th>\n",
       "      <th>author</th>\n",
       "      <th>title</th>\n",
       "    </tr>\n",
       "  </thead>\n",
       "  <tbody>\n",
       "    <tr>\n",
       "      <th>718</th>\n",
       "      <td>As usual, there is a great woman behind every ...</td>\n",
       "      <td>John Lennon</td>\n",
       "      <td>None</td>\n",
       "    </tr>\n",
       "    <tr>\n",
       "      <th>719</th>\n",
       "      <td>Some tourists think Amsterdam is a city of sin...</td>\n",
       "      <td>John Green</td>\n",
       "      <td>The Fault in Our Stars</td>\n",
       "    </tr>\n",
       "  </tbody>\n",
       "</table>\n",
       "</div>"
      ],
      "text/plain": [
       "                                             quoteText       author  \\\n",
       "718  As usual, there is a great woman behind every ...  John Lennon   \n",
       "719  Some tourists think Amsterdam is a city of sin...   John Green   \n",
       "\n",
       "                      title  \n",
       "718                    None  \n",
       "719  The Fault in Our Stars  "
      ]
     },
     "execution_count": 5,
     "metadata": {},
     "output_type": "execute_result"
    }
   ],
   "source": [
    "main()"
   ]
  },
  {
   "cell_type": "code",
   "execution_count": null,
   "id": "statutory-source",
   "metadata": {},
   "outputs": [],
   "source": []
  }
 ],
 "metadata": {
  "kernelspec": {
   "display_name": "Python 3",
   "language": "python",
   "name": "python3"
  },
  "language_info": {
   "codemirror_mode": {
    "name": "ipython",
    "version": 3
   },
   "file_extension": ".py",
   "mimetype": "text/x-python",
   "name": "python",
   "nbconvert_exporter": "python",
   "pygments_lexer": "ipython3",
   "version": "3.7.7"
  }
 },
 "nbformat": 4,
 "nbformat_minor": 5
}
